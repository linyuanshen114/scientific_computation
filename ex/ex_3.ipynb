{
 "cells": [
  {
   "cell_type": "markdown",
   "metadata": {},
   "source": [
    "Problem I - Initial value problem\n",
    "$$\n",
    "y' = \\frac{1}{x^2} - \\frac{y}{x}, \\; 1 \\le x \\le 2 \\; \\text{with} \\; y(1) = 1.\n",
    "$$\n",
    "The exact solution is\n",
    "$$\n",
    "y = \\frac{1 + \\ln x}{x}\n",
    "$$"
   ]
  },
  {
   "cell_type": "code",
   "execution_count": null,
   "metadata": {},
   "outputs": [],
   "source": [
    "import numpy as np\n",
    "import matplotlib.pyplot as plt\n"
   ]
  },
  {
   "cell_type": "code",
   "execution_count": null,
   "metadata": {},
   "outputs": [],
   "source": [
    "def f(t, y):\n",
    "    return 1 / t**2 - y / t"
   ]
  },
  {
   "cell_type": "code",
   "execution_count": null,
   "metadata": {},
   "outputs": [],
   "source": [
    "def Forward_Euler(f, init, T, dt):\n",
    "    t = np.arange(1, T+dt, dt)\n",
    "    nt = t.shape[0]\n",
    "    y = np.zeros(nt)\n",
    "    \n",
    "    y[0] = init\n",
    "\n",
    "    for n in range(nt-1):\n",
    "        y[n+1] = y[n] + f(t[n], y[n])*dt\n",
    "        \n",
    "    return t, y"
   ]
  },
  {
   "cell_type": "code",
   "execution_count": null,
   "metadata": {},
   "outputs": [],
   "source": [
    "def RK2(f, init, T, dt):\n",
    "    t = np.arange(1, T+dt, dt)\n",
    "    nt = t.shape[0]\n",
    "    y = np.zeros(nt)\n",
    "    \n",
    "    y[0] = init\n",
    "\n",
    "    for n in range(nt-1):\n",
    "        k1 = f(t[n], y[n])\n",
    "        k2 = f(t[n] + 2.0 / 3.0 * dt, y[n] + 2.0 / 3.0 * dt * k1)\n",
    "        y[n+1] = y[n] + (k1 + 3.0 * k2) * dt / 4.0\n",
    "        \n",
    "    return t, y"
   ]
  },
  {
   "cell_type": "code",
   "execution_count": null,
   "metadata": {},
   "outputs": [],
   "source": [
    "def RK3(f, init, T, dt):\n",
    "    t = np.arange(1, T+dt, dt)\n",
    "    nt = t.shape[0]\n",
    "    y = np.zeros(nt)\n",
    "    \n",
    "    y[0] = init\n",
    "\n",
    "    for n in range(nt-1):\n",
    "        k1 = f(t[n], y[n])\n",
    "        k2 = f(t[n] + 0.5 * dt, y[n] + 0.5 * dt * k1)\n",
    "        k3 = f(t[n+1], y[n] - dt * k1 + 2.0 * dt * k2)\n",
    "        y[n+1] = y[n] + (k1 + 4.0 * k2 + k3) * dt / 6\n",
    "        \n",
    "    return t, y"
   ]
  },
  {
   "cell_type": "code",
   "execution_count": null,
   "metadata": {},
   "outputs": [],
   "source": [
    "def RK4(f, init, T, dt):\n",
    "    t = np.arange(1, T+dt, dt)\n",
    "    nt = t.shape[0]\n",
    "    y = np.zeros(nt)\n",
    "    \n",
    "    y[0] = init\n",
    "\n",
    "    for n in range(nt-1):\n",
    "        k1 = f(t[n], y[n])\n",
    "        k2 = f(t[n] + 0.5 * dt, y[n] + 0.5 * dt * k1)\n",
    "        k3 = f(t[n] + 0.5 * dt, y[n] + 0.5 * dt * k2)\n",
    "        k4 = f(t[n+1], y[n] + dt * k3)\n",
    "        y[n+1] = y[n] + (k1 + 2.0 * k2 + 2.0 * k3 + k4) * dt / 6.0\n",
    "        \n",
    "    return t, y"
   ]
  },
  {
   "cell_type": "code",
   "execution_count": null,
   "metadata": {},
   "outputs": [],
   "source": [
    "def BDF2(f, init, T, dt):\n",
    "    t = np.arange(1, T+dt, dt)\n",
    "    nt = t.shape[0]\n",
    "    y = np.zeros(nt)\n",
    "    Iter = 100\n",
    "    y[0] = init\n",
    "    y[1] = y[0] +  f(t[0], y[0]) * dt \n",
    "    \n",
    "    for n in range(nt-2):\n",
    "        for j in range(Iter):\n",
    "            y[n+2] = - y[n] / 3.0 + y[n+1] * 4.0 / 3.0 + f(t[n+2], y[n+2]) * dt * 2.0 / 3.0\n",
    "        \n",
    "    return t, y"
   ]
  },
  {
   "cell_type": "code",
   "execution_count": null,
   "metadata": {},
   "outputs": [],
   "source": [
    "y_ex = lambda x: (1.0 + np.log(x)) / x"
   ]
  },
  {
   "cell_type": "code",
   "execution_count": null,
   "metadata": {},
   "outputs": [],
   "source": [
    "h = 0.05\n",
    "# %time t_num, y_num = Forward_Euler(f, 1.0, 2.0, h)\n",
    "# %time t_num, y_num = RK2(f, 1.0, 2.0, h)\n",
    "# %time t_num, y_num = RK3(f, 1.0, 2.0, h)\n",
    "# %time t_num, y_num = RK4(f, 1.0, 2.0, h)\n",
    "%time t_num, y_num = BDF2(f, 1.0, 2.0, h)\n",
    "\n",
    "plt.figure(figsize=(8,8))\n",
    "t = np.linspace(1.0, 2.0, 100)\n",
    "plt.plot(t_num, y_num, 'x', t, y_ex(t))"
   ]
  },
  {
   "cell_type": "code",
   "execution_count": null,
   "metadata": {},
   "outputs": [],
   "source": [
    "# test order\n",
    "h_list = [0.2, 0.1, 0.05, 0.02, 0.01, 0.001]\n",
    "error_list = []\n",
    "for h in h_list:\n",
    "    t_num, y_num = BDF2(f, 1.0, 2.0, h)\n",
    "    y_exact = y_ex(t_num[-1])\n",
    "    # print(abs( y_ex(t_num[-1]) - y_num[-1]))\n",
    "    err = abs( y_ex(t_num[-1]) - y_num[-1])\n",
    "    error_list.append(err)"
   ]
  },
  {
   "cell_type": "code",
   "execution_count": null,
   "metadata": {},
   "outputs": [],
   "source": [
    "h4_list = [h**2 for h in h_list]\n",
    "plt.loglog(h_list, error_list, \"rx\", h_list, h4_list, \"-.\")"
   ]
  },
  {
   "cell_type": "code",
   "execution_count": null,
   "metadata": {},
   "outputs": [],
   "source": []
  },
  {
   "cell_type": "markdown",
   "metadata": {},
   "source": [
    "Problem II - Lorenz equation\n",
    "$$\n",
    "\\begin{equation}\n",
    "    \\left\\{\n",
    "    \\begin{aligned}\n",
    "         & \\frac{\\mathbf{d} x}{\\mathbf{d} t} = \\sigma (y - x),            \\\\\n",
    "         & \\frac{\\mathbf{d} y}{\\mathbf{d} t} = x (\\rho - z) - y ,           \\\\\n",
    "         & \\frac{\\mathbf{d} z}{\\mathbf{d} t} = xy - \\beta z.\n",
    "    \\end{aligned}\n",
    "    \\right.\n",
    "\\end{equation}\n",
    "$$\n",
    "#### with $x(0) = y(0) = z(0) = 1$."
   ]
  },
  {
   "cell_type": "code",
   "execution_count": null,
   "metadata": {},
   "outputs": [],
   "source": [
    "import numpy as np\n",
    "import matplotlib as mpl\n",
    "import matplotlib.pyplot as plt\n",
    "from mpl_toolkits.mplot3d import Axes3D\n",
    "\n",
    "mpl.rcParams['legend.fontsize'] = 10\n"
   ]
  },
  {
   "cell_type": "code",
   "execution_count": null,
   "metadata": {},
   "outputs": [],
   "source": [
    "def F(sigma, rho, beta, x, y, z):\n",
    "    return sigma * (y - x), x * (rho - z) - y, x * y - beta * z"
   ]
  },
  {
   "cell_type": "code",
   "execution_count": null,
   "metadata": {},
   "outputs": [],
   "source": [
    "def lorenz_solver(F, init, T, dt):\n",
    "\n",
    "    sigma = 10\n",
    "    rho = 28\n",
    "    beta = 8.0 / 3.0\n",
    "\n",
    "    t = np.arange(0, T+dt, dt)\n",
    "    nt = t.shape[0]\n",
    "    x = np.zeros(nt)\n",
    "    x[0] = init[0]\n",
    "    y = np.zeros(nt)\n",
    "    y[0] = init[1]\n",
    "    z = np.zeros(nt)\n",
    "    z[0] = init[-1]\n",
    "\n",
    "    for n in range(nt-1):\n",
    "        \n",
    "        k1, l1, m1 = F(sigma, rho, beta, x[n], y[n], z[n])\n",
    "        k2, l2, m2 = F(sigma, rho, beta, x[n] + 0.5 * dt * k1, y[n] + 0.5 * dt * l1, z[n] + 0.5 * dt * m1)\n",
    "        k3, l3, m3 = F(sigma, rho, beta, x[n] + 0.5 * dt * k2, y[n] + 0.5 * dt * l2, z[n] + 0.5 * dt * m2)\n",
    "        k4, l4, m4 = F(sigma, rho, beta, x[n] + dt * k3, y[n] + dt * l3, z[n] + dt * m3)   \n",
    "\n",
    "        x[n+1] = x[n] + (k1 + 2.0 * k2 + 2.0 * k3 + k4) * dt / 6.0\n",
    "        y[n+1] = y[n] + (l1 + 2.0 * l2 + 2.0 * l3 + l4) * dt / 6.0\n",
    "        z[n+1] = z[n] + (m1 + 2.0 * m2 + 2.0 * m3 + m4) * dt / 6.0\n",
    "\n",
    "    return t, x, y, z"
   ]
  },
  {
   "cell_type": "code",
   "execution_count": null,
   "metadata": {},
   "outputs": [],
   "source": [
    "fig = plt.figure()\n",
    "ax = fig.gca(projection='3d')\n",
    "\n",
    "h = 0.001\n",
    "t_num, x_num, y_num, z_num = lorenz_solver(F = F, init = [1.0, 1.0, 1.0], T = 20.0, dt = h)\n",
    "\n",
    "ax.plot(x_num, y_num, z_num, label='parametric curve')\n",
    "ax.legend()\n",
    "plt.show()"
   ]
  },
  {
   "cell_type": "code",
   "execution_count": null,
   "metadata": {},
   "outputs": [],
   "source": []
  },
  {
   "cell_type": "code",
   "execution_count": null,
   "metadata": {},
   "outputs": [],
   "source": []
  }
 ],
 "metadata": {
  "interpreter": {
   "hash": "8bec707d9f3bb0498ec2cff7362219df99e783c9fb19576ab74a49b175d2369b"
  },
  "kernelspec": {
   "display_name": "Python 3 (ipykernel)",
   "language": "python",
   "name": "python3"
  },
  "language_info": {
   "codemirror_mode": {
    "name": "ipython",
    "version": 3
   },
   "file_extension": ".py",
   "mimetype": "text/x-python",
   "name": "python",
   "nbconvert_exporter": "python",
   "pygments_lexer": "ipython3",
   "version": "3.9.7"
  }
 },
 "nbformat": 4,
 "nbformat_minor": 4
}
