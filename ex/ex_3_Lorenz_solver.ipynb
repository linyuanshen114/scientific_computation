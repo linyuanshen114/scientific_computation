{
 "cells": [
  {
   "cell_type": "markdown",
   "metadata": {},
   "source": [
    "Problem II - Lorenz equation\n",
    "$$\n",
    "\\begin{equation}\n",
    "    \\left\\{\n",
    "    \\begin{aligned}\n",
    "         & \\frac{\\mathbf{d} x}{\\mathbf{d} t} = \\sigma (y - x),            \\\\\n",
    "         & \\frac{\\mathbf{d} y}{\\mathbf{d} t} = x (\\rho - z) - y ,           \\\\\n",
    "         & \\frac{\\mathbf{d} z}{\\mathbf{d} t} = xy - \\beta z.\n",
    "    \\end{aligned}\n",
    "    \\right.\n",
    "\\end{equation}\n",
    "$$\n",
    "#### with $x(0) = y(0) = z(0) = 1$."
   ]
  },
  {
   "cell_type": "code",
   "execution_count": null,
   "metadata": {},
   "outputs": [],
   "source": [
    "import numpy as np\n",
    "import matplotlib as mpl\n",
    "import matplotlib.pyplot as plt\n",
    "from mpl_toolkits.mplot3d import Axes3D\n",
    "\n",
    "mpl.rcParams['legend.fontsize'] = 10\n"
   ]
  },
  {
   "cell_type": "code",
   "execution_count": null,
   "metadata": {},
   "outputs": [],
   "source": [
    "def F(sigma, rho, beta, x, y, z):\n",
    "    return sigma * (y - x), x * (rho - z) - y, x * y - beta * z"
   ]
  },
  {
   "cell_type": "code",
   "execution_count": null,
   "metadata": {},
   "outputs": [],
   "source": [
    "def lorenz_solver(F, init, T, dt):\n",
    "\n",
    "    sigma = 10\n",
    "    rho = 28\n",
    "    beta = 8.0 / 3.0\n",
    "\n",
    "    t = np.arange(0, T+dt, dt)\n",
    "    nt = t.shape[0]\n",
    "    x = np.zeros(nt)\n",
    "    x[0] = init[0]\n",
    "    y = np.zeros(nt)\n",
    "    y[0] = init[1]\n",
    "    z = np.zeros(nt)\n",
    "    z[0] = init[-1]\n",
    "\n",
    "    for n in range(nt-1):\n",
    "        \n",
    "        k1, l1, m1 = F(sigma, rho, beta, x[n], y[n], z[n])\n",
    "        k2, l2, m2 = F(sigma, rho, beta, x[n] + 0.5 * dt * k1, y[n] + 0.5 * dt * l1, z[n] + 0.5 * dt * m1)\n",
    "        k3, l3, m3 = F(sigma, rho, beta, x[n] + 0.5 * dt * k2, y[n] + 0.5 * dt * l2, z[n] + 0.5 * dt * m2)\n",
    "        k4, l4, m4 = F(sigma, rho, beta, x[n] + dt * k3, y[n] + dt * l3, z[n] + dt * m3)   \n",
    "\n",
    "        x[n+1] = x[n] + (k1 + 2.0 * k2 + 2.0 * k3 + k4) * dt / 6.0\n",
    "        y[n+1] = y[n] + (l1 + 2.0 * l2 + 2.0 * l3 + l4) * dt / 6.0\n",
    "        z[n+1] = z[n] + (m1 + 2.0 * m2 + 2.0 * m3 + m4) * dt / 6.0\n",
    "\n",
    "    return t, x, y, z"
   ]
  },
  {
   "cell_type": "code",
   "execution_count": null,
   "metadata": {},
   "outputs": [],
   "source": [
    "fig = plt.figure(figsize=(8, 12))\n",
    "ax = fig.gca(projection='3d')\n",
    "\n",
    "h = 0.001\n",
    "t_num, x_num, y_num, z_num = lorenz_solver(F = F, init = [1.0, 1.0, 1.0], T = 20.0, dt = h)\n",
    "\n",
    "ax.plot(x_num, y_num, z_num, label='parametric curve')\n",
    "ax.legend()\n",
    "plt.show()"
   ]
  },
  {
   "cell_type": "code",
   "execution_count": null,
   "metadata": {},
   "outputs": [],
   "source": []
  },
  {
   "cell_type": "code",
   "execution_count": null,
   "metadata": {},
   "outputs": [],
   "source": []
  }
 ],
 "metadata": {
  "interpreter": {
   "hash": "8bec707d9f3bb0498ec2cff7362219df99e783c9fb19576ab74a49b175d2369b"
  },
  "kernelspec": {
   "display_name": "Python 3 (ipykernel)",
   "language": "python",
   "name": "python3"
  },
  "language_info": {
   "codemirror_mode": {
    "name": "ipython",
    "version": 3
   },
   "file_extension": ".py",
   "mimetype": "text/x-python",
   "name": "python",
   "nbconvert_exporter": "python",
   "pygments_lexer": "ipython3",
   "version": "3.9.7"
  }
 },
 "nbformat": 4,
 "nbformat_minor": 4
}
