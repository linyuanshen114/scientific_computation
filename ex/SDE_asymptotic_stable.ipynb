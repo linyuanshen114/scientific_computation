{
 "cells": [
  {
   "cell_type": "markdown",
   "metadata": {},
   "source": [
    "#### Consider the linear SDE:\n",
    "\n",
    "$$ \\mathrm{d}X(t) = \\mu X(t) \\mathrm{d}t + \\sigma X(t) \\mathrm{d}W(t), X(0) = X_0$$ \n",
    "\n",
    "#### where $\\mu, \\sigma$ are real constants.\n",
    "#### The exact solution to this SDE is\n",
    "\n",
    "$$ X(t) = X(0) \\exp \\left ( (\\mu - \\frac{1}{2} \\sigma^2) t + \\sigma W(t) \\right )$$"
   ]
  },
  {
   "cell_type": "code",
   "execution_count": null,
   "metadata": {},
   "outputs": [],
   "source": [
    "import numpy as np\n",
    "import matplotlib.pyplot as plt\n",
    "np.random.seed(100)"
   ]
  },
  {
   "cell_type": "code",
   "execution_count": null,
   "metadata": {},
   "outputs": [],
   "source": [
    "mu = 0.5\n",
    "sigma = 6**0.5\n",
    "X_0 = 1\n",
    "T = 100\n",
    "N = 2**10\n",
    "\n",
    "dt = float(T) / N\n",
    "t = np.linspace(0, T, N+1)\n"
   ]
  },
  {
   "cell_type": "code",
   "execution_count": null,
   "metadata": {},
   "outputs": [],
   "source": [
    "def EM_solver(R, dt, dW, N, X_ref):\n",
    "    Dt = R * dt\n",
    "    L = N // R\n",
    "    X_approx = np.zeros(L + 1)\n",
    "    X_approx[0] = X_ref[0]\n",
    "\n",
    "    for j in range(1, L+1):\n",
    "        W_acc = np.sum(dW[0][range(R*(j-1), R*j)])\n",
    "        X_approx[j] = X_approx[j-1] + mu * X_approx[j-1] * Dt + sigma * X_approx[j-1] * W_acc\n",
    "\n",
    "    X_L = X_approx[-1]\n",
    "    X_T = X_ref[-1]\n",
    "    \n",
    "    err = np.abs(X_L - X_T)   \n",
    "    # err = np.abs(X_approx - X_ref[::R])   \n",
    "    # print(\"Error: {:.4e}\".format(err))\n",
    "    \n",
    "    return err, X_approx, X_L, X_T\n",
    "    "
   ]
  },
  {
   "cell_type": "code",
   "execution_count": null,
   "metadata": {},
   "outputs": [],
   "source": [
    "def order(R, X_0 = X_0, dt = dt, N = N, solver = EM_solver):\n",
    "\n",
    "    dW = np.sqrt(dt) * np.random.randn(1, N)\n",
    "    W = np.cumsum(dW)\n",
    "\n",
    "    X_ref = X_0 * np.exp((mu - 0.5*sigma**2)*t[1:] + sigma*W)\n",
    "    X_ref = np.insert(X_ref, obj = 0, values = X_0)\n",
    "\n",
    "    err, X_approx, X_L, X_T = solver(R, dt, dW, N, X_ref)\n",
    "\n",
    "    return err, X_approx, X_L, X_T\n"
   ]
  },
  {
   "cell_type": "code",
   "execution_count": null,
   "metadata": {},
   "outputs": [],
   "source": [
    "MC = 1"
   ]
  },
  {
   "cell_type": "code",
   "execution_count": null,
   "metadata": {},
   "outputs": [],
   "source": [
    "R_1 = 2**1\n",
    "sol_list = np.zeros((MC, N // R_1 + 1))\n",
    "for i in range(MC):\n",
    "    _, X_approx, X_L, X_T = order(R = R_1, X_0 = X_0, dt = dt, N = N, solver = EM_solver)\n",
    "    sol_list[i, :] = np.abs(X_approx)\n",
    "    \n",
    "Exception_sol1_case1 = np.mean(sol_list, axis = 0)"
   ]
  },
  {
   "cell_type": "code",
   "execution_count": null,
   "metadata": {},
   "outputs": [],
   "source": [
    "R_2 = 2**3\n",
    "sol_list = np.zeros((MC, N // R_2 + 1))\n",
    "for i in range(MC):\n",
    "    _, X_approx, X_L, X_T = order(R = R_2, X_0 = X_0, dt = dt, N = N, solver = EM_solver)\n",
    "    sol_list[i, :] = np.abs(X_approx)\n",
    "    \n",
    "Exception_sol1_case2 = np.mean(sol_list, axis = 0)"
   ]
  },
  {
   "cell_type": "code",
   "execution_count": null,
   "metadata": {},
   "outputs": [],
   "source": [
    "R_3 = 2**5\n",
    "sol_list = np.zeros((MC, N // R_3 + 1))\n",
    "for i in range(MC):\n",
    "    _, X_approx, X_L, X_T = order(R = R_3, X_0 = X_0, dt = dt, N = N, solver = EM_solver)\n",
    "    sol_list[i, :] = np.abs(X_approx)\n",
    "    \n",
    "Exception_sol1_case3 = np.mean(sol_list, axis = 0)"
   ]
  },
  {
   "cell_type": "code",
   "execution_count": null,
   "metadata": {},
   "outputs": [],
   "source": [
    "# test on for MC paths\n",
    "\n",
    "L_1 = N // R_1\n",
    "ax = plt.subplot(111)\n",
    "ax.plot(np.linspace(0, T, L_1+1), np.log(Exception_sol1_case1), \"r-x\")\n",
    "L_2 = N // R_2\n",
    "ax.plot(np.linspace(0, T, L_2+1), np.log(Exception_sol1_case2), \"b-+\")\n",
    "L_3 = N // R_3\n",
    "ax.plot(np.linspace(0, T, L_3+1), np.log(Exception_sol1_case3), \"g-*\")\n",
    "\n",
    "ax.grid()\n",
    "ax.legend((\"case 1\",\"case 2\", \"case 3\"), loc = \"best\")\n",
    "plt.savefig(\"./asym_stable.pdf\")\n",
    "plt.show()"
   ]
  },
  {
   "cell_type": "code",
   "execution_count": null,
   "metadata": {},
   "outputs": [],
   "source": []
  },
  {
   "cell_type": "code",
   "execution_count": null,
   "metadata": {},
   "outputs": [],
   "source": []
  }
 ],
 "metadata": {
  "interpreter": {
   "hash": "32b299505eb5334bbf1912925aafcd2893c9318f944a2a92d7187130675a3806"
  },
  "kernelspec": {
   "display_name": "Python 3.9.7 64-bit",
   "language": "python",
   "name": "python3"
  },
  "language_info": {
   "codemirror_mode": {
    "name": "ipython",
    "version": 3
   },
   "file_extension": ".py",
   "mimetype": "text/x-python",
   "name": "python",
   "nbconvert_exporter": "python",
   "pygments_lexer": "ipython3",
   "version": "3.9.7"
  },
  "orig_nbformat": 4
 },
 "nbformat": 4,
 "nbformat_minor": 2
}
