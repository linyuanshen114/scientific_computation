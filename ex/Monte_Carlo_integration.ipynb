{
 "cells": [
  {
   "cell_type": "markdown",
   "metadata": {},
   "source": [
    "$$\n",
    "\\mathcal{I} = \\int_\\Omega e^{-|\\bm{x}|^2} \\mathrm{d} \\bm{x} = \\left (\\int_0^1 e^{-|{x}|^2} \\mathrm{d} {x} \\right )^d, \\; \\Omega = [0, 1]^d\n",
    "$$"
   ]
  },
  {
   "cell_type": "code",
   "execution_count": 1,
   "metadata": {},
   "outputs": [],
   "source": [
    "import numpy as np\n",
    "import scipy.integrate as integrate\n",
    "import matplotlib.pyplot as plt"
   ]
  },
  {
   "cell_type": "code",
   "execution_count": 2,
   "metadata": {},
   "outputs": [],
   "source": [
    "def custom_integrate(func, quads):\n",
    "    points, weights = quads\n",
    "    if isinstance(weights, np.ndarray):\n",
    "        assert points.shape[0] == weights.shape[0]\n",
    "    return np.sum(weights * func(points))"
   ]
  },
  {
   "cell_type": "code",
   "execution_count": 3,
   "metadata": {},
   "outputs": [],
   "source": [
    "def f(x):\n",
    "    x_norm = np.linalg.norm(x, ord=2, axis=-1, keepdims=True)\n",
    "    return np.exp(-x_norm**2)"
   ]
  },
  {
   "cell_type": "code",
   "execution_count": 4,
   "metadata": {},
   "outputs": [
    {
     "name": "stdout",
     "output_type": "stream",
     "text": [
      "0.7468241328124271 0.5577462853510337 0.5577462853510338\n"
     ]
    }
   ],
   "source": [
    "integral_1d = integrate.quad(lambda x: np.exp(-x**2), 0, 1)[0]\n",
    "integral_2d = integrate.dblquad(lambda x_1, x_2: np.exp(-(x_1**2+x_2**2)), 0, 1, 0, 1)[0]\n",
    "\n",
    "print(integral_1d, integral_2d, integral_1d**2)"
   ]
  },
  {
   "cell_type": "code",
   "execution_count": 5,
   "metadata": {},
   "outputs": [
    {
     "name": "stdout",
     "output_type": "stream",
     "text": [
      "0.7369941595051059 0.7468240742251904\n"
     ]
    }
   ],
   "source": [
    "N = 2**10\n",
    "# Monte Carlo\n",
    "rng = np.random.default_rng(0)\n",
    "points = rng.uniform(0.0, 1.0, size=(N, 1))\n",
    "weights = np.ones((N, 1)) / N\n",
    "integral_1d_mc = custom_integrate(func = f, quads = [points, weights])\n",
    "\n",
    "# Trapezoidal formula\n",
    "points = np.linspace(0.0, 1.0, N).reshape((-1, 1))\n",
    "weights = np.ones((N, 1)) / (N-1)\n",
    "weights[0, 0] = weights[-1, 0] = 0.5 / (N-1)\n",
    "integral_1d_trap = custom_integrate(func = f, quads = [points, weights])\n",
    "\n",
    "print(integral_1d_mc, integral_1d_trap)"
   ]
  },
  {
   "cell_type": "code",
   "execution_count": 6,
   "metadata": {},
   "outputs": [
    {
     "data": {
      "text/plain": [
       "0.5565640170002342"
      ]
     },
     "execution_count": 6,
     "metadata": {},
     "output_type": "execute_result"
    }
   ],
   "source": [
    "N = 2**10\n",
    "# Monte Carlo for d = 2\n",
    "rng = np.random.default_rng(0)\n",
    "points = rng.uniform(0.0, 1.0, size=(N, 2))\n",
    "weights = np.ones((N, 1)) / N\n",
    "integral_2d_mc = custom_integrate(func = f, quads = [points, weights])\n",
    "integral_2d_mc"
   ]
  },
  {
   "cell_type": "code",
   "execution_count": 7,
   "metadata": {},
   "outputs": [],
   "source": [
    "# order test for d = 1\n",
    "d = 1\n",
    "mc_errs = []\n",
    "ns = []\n",
    "for n in np.linspace(100, 10000, 100):\n",
    "    int_n = int(n)\n",
    "    ns.append(int_n)\n",
    "    rpoints = rng.uniform(0.0, 1.0, size=(int_n, d))\n",
    "    weights = np.ones((int_n, 1)) / int_n\n",
    "    MC_I = custom_integrate(f, (rpoints, weights))\n",
    "    mc_errs.append(np.abs(MC_I - integral_1d))"
   ]
  },
  {
   "cell_type": "code",
   "execution_count": 8,
   "metadata": {},
   "outputs": [
    {
     "data": {
      "text/plain": [
       "[<matplotlib.lines.Line2D at 0x1fc945f57f0>,\n",
       " <matplotlib.lines.Line2D at 0x1fc945f59d0>]"
      ]
     },
     "execution_count": 8,
     "metadata": {},
     "output_type": "execute_result"
    },
    {
     "data": {
      "image/png": "[encoded data removed]",
      "text/plain": [
       "<Figure size 432x288 with 1 Axes>"
      ]
     },
     "metadata": {
      "needs_background": "light"
     },
     "output_type": "display_data"
    }
   ],
   "source": [
    "plt.loglog(ns, mc_errs, ns, 1.0 / np.sqrt(np.asarray(ns)))"
   ]
  },
  {
   "cell_type": "code",
   "execution_count": 9,
   "metadata": {},
   "outputs": [
    {
     "data": {
      "text/plain": [
       "(0.05397077078684821, 0.05397385432900757)"
      ]
     },
     "execution_count": 9,
     "metadata": {},
     "output_type": "execute_result"
    }
   ],
   "source": [
    "N = 2**25\n",
    "# Monte Carlo for d = 10\n",
    "rng = np.random.default_rng(0)\n",
    "points = rng.uniform(0.0, 1.0, size=(N, 10))\n",
    "weights = np.ones((N, 1)) / N\n",
    "integral_10d_mc = custom_integrate(func = f, quads = [points, weights])\n",
    "integral_10d_mc, integral_1d**10"
   ]
  },
  {
   "cell_type": "code",
   "execution_count": 10,
   "metadata": {},
   "outputs": [],
   "source": [
    "# order test for d = 10\n",
    "d = 10\n",
    "mc_errs = []\n",
    "ns = []\n",
    "for n in np.linspace(2**8, 2**24, 2**8):\n",
    "    int_n = int(n)\n",
    "    ns.append(int_n)\n",
    "    rpoints = rng.uniform(0.0, 1.0, size=(int_n, d))\n",
    "    weights = np.ones((int_n, 1)) / int_n\n",
    "    MC_I = custom_integrate(f, (rpoints, weights))\n",
    "    mc_errs.append(np.abs(MC_I - integral_1d**10))"
   ]
  },
  {
   "cell_type": "code",
   "execution_count": 11,
   "metadata": {},
   "outputs": [
    {
     "data": {
      "text/plain": [
       "[<matplotlib.lines.Line2D at 0x1fc978b2ca0>,\n",
       " <matplotlib.lines.Line2D at 0x1fc978b2cd0>]"
      ]
     },
     "execution_count": 11,
     "metadata": {},
     "output_type": "execute_result"
    },
    {
     "data": {
      "image/png": "[encoded data removed]",
      "text/plain": [
       "<Figure size 432x288 with 1 Axes>"
      ]
     },
     "metadata": {
      "needs_background": "light"
     },
     "output_type": "display_data"
    }
   ],
   "source": [
    "plt.loglog(ns, mc_errs, ns, 1.0 / np.sqrt(np.asarray(ns)))"
   ]
  },
  {
   "cell_type": "code",
   "execution_count": null,
   "metadata": {},
   "outputs": [],
   "source": []
  },
  {
   "cell_type": "code",
   "execution_count": null,
   "metadata": {},
   "outputs": [],
   "source": [
    "# a = [1, 1, 1]\n",
    "# p = np.poly1d(a)\n",
    "# p_prime = p.deriv()\n",
    "# x = np.ones((10, 1))\n",
    "# p_prime(x)"
   ]
  },
  {
   "cell_type": "code",
   "execution_count": null,
   "metadata": {},
   "outputs": [],
   "source": []
  }
 ],
 "metadata": {
  "interpreter": {
   "hash": "8bec707d9f3bb0498ec2cff7362219df99e783c9fb19576ab74a49b175d2369b"
  },
  "kernelspec": {
   "display_name": "Python 3.9.7 64-bit",
   "language": "python",
   "name": "python3"
  },
  "language_info": {
   "codemirror_mode": {
    "name": "ipython",
    "version": 3
   },
   "file_extension": ".py",
   "mimetype": "text/x-python",
   "name": "python",
   "nbconvert_exporter": "python",
   "pygments_lexer": "ipython3",
   "version": "3.9.7"
  },
  "orig_nbformat": 4
 },
 "nbformat": 4,
 "nbformat_minor": 2
}
