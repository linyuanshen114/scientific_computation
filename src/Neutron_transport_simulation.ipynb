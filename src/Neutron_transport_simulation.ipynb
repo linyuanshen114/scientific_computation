{
 "cells": [
  {
   "cell_type": "code",
   "execution_count": null,
   "metadata": {},
   "outputs": [],
   "source": [
    "import numpy as np\n",
    "import matplotlib.pyplot as plt\n"
   ]
  },
  {
   "cell_type": "code",
   "execution_count": null,
   "metadata": {},
   "outputs": [],
   "source": [
    "x_l, x_r = -10.0, 10.0\n",
    "T = 1.0\n",
    "dt = 0.001\n",
    "dx = 0.05"
   ]
  },
  {
   "cell_type": "code",
   "execution_count": null,
   "metadata": {},
   "outputs": [],
   "source": [
    "f_init = lambda x: np.exp(-x**2/10.0)\n",
    "kernel = lambda x, y: np.exp(-(x-y)**2/2.0)"
   ]
  },
  {
   "cell_type": "code",
   "execution_count": null,
   "metadata": {},
   "outputs": [],
   "source": [
    "def solver(f_init, kernel, T, x_l, x_r, dt, dx):\n",
    "    t = np.arange(0.0, T+dt, dt)\n",
    "    nt = t.shape[0]\n",
    "    x = np.arange(x_l, x_r+dx, dx).reshape(-1, 1)\n",
    "    y = x.reshape(1, -1)\n",
    "    nx = x.shape[0]\n",
    "    sol = np.zeros((nx, nt))\n",
    "    sol[:, 0:1] = f_init(x)\n",
    "    weights = np.ones(nx)\n",
    "    weights[0], weights[-1] = 0.5, 0.5 \n",
    "\n",
    "    for n in range(nt-1):\n",
    "        sol[:, n+1] = (1.0 - np.sqrt(2.0*np.pi)*dt) * sol[:, n] + (np.matmul(kernel(x, y), sol[:, n]) * weights / nx * (x_r - x_l)) * dt\n",
    "    return t, x, sol"
   ]
  },
  {
   "cell_type": "code",
   "execution_count": null,
   "metadata": {},
   "outputs": [],
   "source": [
    "t_num, x_num, sol_num = solver(f_init, kernel, T, x_l, x_r, dt, dx)"
   ]
  },
  {
   "cell_type": "code",
   "execution_count": null,
   "metadata": {},
   "outputs": [],
   "source": [
    "plt.plot(x_num, sol_num[:, 0], \"b.-\", label = r\"$t = 0$\", markevery = 10)\n",
    "plt.plot(x_num, sol_num[:, -1], \"k-x\", label = r\"$t = 1$\", markevery = 10)\n",
    "plt.xlabel(r\"$x$\")\n",
    "plt.ylabel(r\"$\\phi$\")\n",
    "plt.grid()\n",
    "plt.legend()\n",
    "plt.savefig(\"./sol.pdf\")\n",
    "plt.show()"
   ]
  },
  {
   "cell_type": "code",
   "execution_count": null,
   "metadata": {},
   "outputs": [],
   "source": []
  }
 ],
 "metadata": {
  "interpreter": {
   "hash": "8bec707d9f3bb0498ec2cff7362219df99e783c9fb19576ab74a49b175d2369b"
  },
  "kernelspec": {
   "display_name": "Python 3.9.7 64-bit",
   "language": "python",
   "name": "python3"
  },
  "language_info": {
   "codemirror_mode": {
    "name": "ipython",
    "version": 3
   },
   "file_extension": ".py",
   "mimetype": "text/x-python",
   "name": "python",
   "nbconvert_exporter": "python",
   "pygments_lexer": "ipython3",
   "version": "3.9.7"
  },
  "orig_nbformat": 4
 },
 "nbformat": 4,
 "nbformat_minor": 2
}
