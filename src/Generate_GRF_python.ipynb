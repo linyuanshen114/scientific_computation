{
 "cells": [
  {
   "cell_type": "code",
   "execution_count": null,
   "metadata": {},
   "outputs": [],
   "source": [
    "import numpy as np\n",
    "from numpy import pi, fft, exp, random\n",
    "\n",
    "import matplotlib.pyplot as plt\n"
   ]
  },
  {
   "cell_type": "code",
   "execution_count": null,
   "metadata": {},
   "outputs": [],
   "source": [
    "# define the kernel of square root of covariance\n",
    "def f(r, sigma, a, dim=1):\n",
    "    return sigma * (4/a**2/pi)**(dim/4) * exp(-2*r**2 / a**2)"
   ]
  },
  {
   "cell_type": "code",
   "execution_count": null,
   "metadata": {},
   "outputs": [],
   "source": [
    "sigma = 0.01\n",
    "a = 0.25\n",
    "\n",
    "L = 1.0 # length of domain\n",
    "N = 2**9 # number of discretization points\n",
    "dx = L / N\n",
    "x = np.arange(-L/2, L/2, dx) # define x domain\n",
    "\n",
    "# generate GRF path\n",
    "Num_path = 2**4\n",
    "sample_u0 = np.zeros((Num_path, N))\n",
    "for i in range(Num_path):\n",
    "    w = random.standard_normal(size=(N, )) # difine white noise\n",
    "    # Generate Gaussian random field with covariance kernel C(r) = f * f (convolution)\n",
    "    z = fft.ifft(fft.fft(f(r=x, sigma=sigma, a=a, dim=1)) * fft.fft(w))\n",
    "    z = z.real\n",
    "    sample_u0[i, :] = z\n",
    "\n",
    "    plt.plot(x, z) # periodic: z[0] = z[-1] \n",
    "    # plt.plot(x, z-z[0]) # z[0] = z[-1] = 0\n",
    "    plt.xlabel(\"$x$\")\n",
    "    plt.ylabel(\"$z$\")\n",
    "\n",
    "plt.grid()\n",
    "plt.show()\n",
    "\n",
    "x.shape, z.shape"
   ]
  },
  {
   "cell_type": "code",
   "execution_count": null,
   "metadata": {},
   "outputs": [],
   "source": [
    "# np.savez('./burgers_u0.npz', u0=sample_u0)\n"
   ]
  },
  {
   "cell_type": "code",
   "execution_count": null,
   "metadata": {},
   "outputs": [],
   "source": [
    "\"\"\"\"\n",
    "    another way for GRF\n",
    "    \n",
    "\"\"\"\n",
    "## define mesh size for x\n",
    "## finer grid\n",
    "lx = 1\n",
    "Nx = 127\n",
    "dx = lx / (Nx + 1)\n",
    "points_x = np.linspace(dx, lx - dx, Nx).T\n",
    "x = points_x[:, None]\n",
    "\n",
    "## coarser grid\n",
    "Nx_c = 64\n",
    "dx_c = lx / (Nx_c + 1)\n",
    "\n",
    "points_x_c = np.linspace(dx_c, lx - dx_c, Nx_c).T\n",
    "x_c = points_x_c[:, None]"
   ]
  },
  {
   "cell_type": "code",
   "execution_count": null,
   "metadata": {},
   "outputs": [],
   "source": [
    "# Guassian random field \n",
    "Nst = 16\n",
    "l = 0.5\n",
    "\n",
    "# kernal matrix\n",
    "def kernal(xs, ys, l):\n",
    "    dx = np.expand_dims(xs, 1) - np.expand_dims(ys, 0)\n",
    "    return np.exp(-((dx / l) ** 2) / 2)\n",
    "\n",
    "\n",
    "Corv = kernal(points_x, points_x, l)\n",
    "g_mat = np.zeros((Nst, Nx))\n",
    "mean = np.zeros_like(points_x)\n",
    "for i in range(Nst):\n",
    "    g_mat[[i], :] = np.random.multivariate_normal(mean, Corv)# * points_x * (1 - points_x) # enforce zero B.C.\n",
    "\n",
    "for i in range(Nst):\n",
    "    plt.plot(x, g_mat[i, :])\n",
    "\n",
    "plt.show()"
   ]
  },
  {
   "cell_type": "code",
   "execution_count": null,
   "metadata": {},
   "outputs": [],
   "source": [
    "\"\"\"\"\n",
    "    another way for GRF\n",
    "    \n",
    "\"\"\"\n",
    "\n",
    "import numpy as np\n",
    "from sklearn import gaussian_process as gp\n",
    "\n",
    "T = 1.0\n",
    "num = 1\n",
    "features = 16\n",
    "length_scale = 0.5\n",
    "x = np.linspace(0, T, num=features)[:, None]\n",
    "\n",
    "def grf(num, features):\n",
    "    x = np.linspace(0, T, num=features)[:, None]\n",
    "    K = gp.kernels.RBF(length_scale=length_scale)(x)\n",
    "    L = np.linalg.cholesky(K + 1e-13 * np.eye(features))\n",
    "    return (L @ np.random.randn(features, num)).transpose() # (num, features)\n",
    "\n",
    "plt.plot(x, grf(num, features)[0,:])"
   ]
  },
  {
   "cell_type": "code",
   "execution_count": null,
   "metadata": {},
   "outputs": [],
   "source": []
  }
 ],
 "metadata": {
  "kernelspec": {
   "display_name": "Python 3.9.7 64-bit",
   "language": "python",
   "name": "python3"
  },
  "language_info": {
   "codemirror_mode": {
    "name": "ipython",
    "version": 3
   },
   "file_extension": ".py",
   "mimetype": "text/x-python",
   "name": "python",
   "nbconvert_exporter": "python",
   "pygments_lexer": "ipython3",
   "version": "3.9.7"
  },
  "orig_nbformat": 4,
  "vscode": {
   "interpreter": {
    "hash": "8bec707d9f3bb0498ec2cff7362219df99e783c9fb19576ab74a49b175d2369b"
   }
  }
 },
 "nbformat": 4,
 "nbformat_minor": 2
}
