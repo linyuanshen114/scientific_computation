{
 "cells": [
  {
   "cell_type": "code",
   "execution_count": null,
   "metadata": {},
   "outputs": [],
   "source": [
    "import numpy as np\n",
    "from numpy import pi, fft, exp, random\n",
    "\n",
    "import matplotlib.pyplot as plt\n"
   ]
  },
  {
   "cell_type": "code",
   "execution_count": null,
   "metadata": {},
   "outputs": [],
   "source": [
    "# define the kernel of square root of covariance\n",
    "def f(r, sigma, a, dim=1):\n",
    "    return sigma * (4/a**2/pi)**(dim/4) * exp(-2*r**2 / a**2)"
   ]
  },
  {
   "cell_type": "code",
   "execution_count": null,
   "metadata": {},
   "outputs": [],
   "source": [
    "sigma = 1.0\n",
    "a = 1\n",
    "\n",
    "L = 2.0 # length of domain\n",
    "N = 2**10 # number of discretization points\n",
    "dx = L / N\n",
    "x = np.arange(-L/2, L/2, dx) # define x domain\n",
    "\n",
    "sample_mean = 0.0\n",
    "# generate GRF path\n",
    "Num_path = 10000\n",
    "for i in range(Num_path):\n",
    "    w = random.standard_normal(size=(N, )) # difine white noise\n",
    "    # Generate Gaussian random field with covariance kernel C(r) = f * f (convolution)\n",
    "    z = fft.ifft(fft.fft(f(r=x, sigma=sigma, a=a, dim=1)) * fft.fft(w))\n",
    "    z = z.real\n",
    "    sample_mean += z\n",
    "\n",
    "    plt.plot(x, z)\n",
    "    plt.xlabel(\"$x$\")\n",
    "    plt.ylabel(\"$z$\")\n",
    "    plt.grid()\n",
    "\n",
    "sample_mean = sample_mean / Num_path\n",
    "sample_mean\n"
   ]
  },
  {
   "cell_type": "code",
   "execution_count": null,
   "metadata": {},
   "outputs": [],
   "source": []
  },
  {
   "cell_type": "code",
   "execution_count": null,
   "metadata": {},
   "outputs": [],
   "source": []
  }
 ],
 "metadata": {
  "kernelspec": {
   "display_name": "Python 3.9.7 64-bit",
   "language": "python",
   "name": "python3"
  },
  "language_info": {
   "codemirror_mode": {
    "name": "ipython",
    "version": 3
   },
   "file_extension": ".py",
   "mimetype": "text/x-python",
   "name": "python",
   "nbconvert_exporter": "python",
   "pygments_lexer": "ipython3",
   "version": "3.9.7"
  },
  "orig_nbformat": 4,
  "vscode": {
   "interpreter": {
    "hash": "8bec707d9f3bb0498ec2cff7362219df99e783c9fb19576ab74a49b175d2369b"
   }
  }
 },
 "nbformat": 4,
 "nbformat_minor": 2
}
