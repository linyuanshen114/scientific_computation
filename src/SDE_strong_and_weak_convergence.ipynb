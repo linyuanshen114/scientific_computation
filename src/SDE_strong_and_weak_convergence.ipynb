{
 "cells": [
  {
   "cell_type": "markdown",
   "metadata": {},
   "source": [
    "#### Consider the linear SDE:\n",
    "\n",
    "$$ \\mathrm{d}X(t) = \\mu X(t) \\mathrm{d}t + \\sigma X(t) \\mathrm{d}W(t), X(0) = X_0$$ \n",
    "\n",
    "#### where $\\mu, \\sigma$ are real constants.\n",
    "#### The exact solution to this SDE is\n",
    "\n",
    "$$ X(t) = X(0) \\exp \\left ( (\\mu - \\frac{1}{2} \\sigma^2) t + \\sigma W(t) \\right )$$"
   ]
  },
  {
   "cell_type": "code",
   "execution_count": null,
   "metadata": {},
   "outputs": [],
   "source": [
    "import numpy as np\n",
    "import matplotlib.pyplot as plt\n",
    "np.random.seed(100)"
   ]
  },
  {
   "cell_type": "code",
   "execution_count": null,
   "metadata": {},
   "outputs": [],
   "source": [
    "mu = 1\n",
    "sigma = 0.1\n",
    "X_0 = 1\n",
    "T = 0.1\n",
    "N = 2**10\n",
    "\n",
    "dt = float(T) / N\n",
    "t = np.linspace(0, T, N+1)\n"
   ]
  },
  {
   "cell_type": "code",
   "execution_count": null,
   "metadata": {},
   "outputs": [],
   "source": [
    "def EM_solver(R, dt, dW, N, X_ref):\n",
    "    Dt = R * dt\n",
    "    L = N // R\n",
    "    X_approx = np.zeros(L + 1)\n",
    "    X_approx[0] = X_ref[0]\n",
    "\n",
    "    for j in range(1, L+1):\n",
    "        W_acc = np.sum(dW[0][range(R*(j-1), R*j)])\n",
    "        X_approx[j] = X_approx[j-1] + mu * X_approx[j-1] * Dt + sigma * X_approx[j-1] * W_acc\n",
    "\n",
    "    X_L = X_approx[-1]\n",
    "    X_T = X_ref[-1]\n",
    "    \n",
    "    err = np.abs(X_L - X_T)   \n",
    "    # err = np.abs(X_approx - X_ref[::R])   \n",
    "    # print(\"Error: {:.4e}\".format(err))\n",
    "    \n",
    "    return err, X_approx, X_L, X_T\n",
    "    "
   ]
  },
  {
   "cell_type": "code",
   "execution_count": null,
   "metadata": {},
   "outputs": [],
   "source": [
    "def Milstein_solver(R, dt, dW, N, X_ref):\n",
    "    Dt = R * dt\n",
    "    L = N // R\n",
    "    X_approx = np.zeros(L + 1)\n",
    "    X_approx[0] = X_ref[0]\n",
    "\n",
    "    for j in range(1, L+1):\n",
    "        W_acc = np.sum(dW[0][range(R*(j-1), R*j)])\n",
    "        X_approx[j] = X_approx[j-1] + mu * X_approx[j-1] * Dt + sigma * X_approx[j-1] * W_acc + 0.5 * sigma**2 * X_approx[j-1] * (W_acc**2 - Dt)\n",
    "\n",
    "    X_L = X_approx[-1]\n",
    "    X_T = X_ref[-1]\n",
    "    \n",
    "    err = np.abs(X_L - X_T)   \n",
    "    # err = np.abs(X_approx - X_ref[::R])   \n",
    "    # print(\"Error: {:.4e}\".format(err))\n",
    "    \n",
    "    return err, X_approx, X_L, X_T\n",
    "    "
   ]
  },
  {
   "cell_type": "code",
   "execution_count": null,
   "metadata": {},
   "outputs": [],
   "source": [
    "def RK_solver(R, dt, dW, N, X_ref):\n",
    "    Dt = R * dt\n",
    "    L = N // R\n",
    "    X_approx = np.zeros(L + 1)\n",
    "    X_approx[0] = X_ref[0]\n",
    "\n",
    "    for j in range(1, L+1):\n",
    "        W_acc = np.sum(dW[0][range(R*(j-1), R*j)])\n",
    "        X_hat = X_approx[j-1] + sigma * X_approx[j-1] * Dt ** 0.5\n",
    "        X_approx[j] = X_approx[j-1] + mu * X_approx[j-1] * Dt + sigma * X_approx[j-1] * W_acc + 0.5 / Dt ** 0.5 * sigma * (X_hat - X_approx[j-1]) * (W_acc**2 - Dt)\n",
    "\n",
    "    X_L = X_approx[-1]\n",
    "    X_T = X_ref[-1]\n",
    "    \n",
    "    err = np.abs(X_L - X_T)   \n",
    "    # err = np.abs(X_approx - X_ref[::R])   \n",
    "    # print(\"Error: {:.4e}\".format(err))\n",
    "    \n",
    "    return err, X_approx, X_L, X_T"
   ]
  },
  {
   "cell_type": "code",
   "execution_count": null,
   "metadata": {},
   "outputs": [],
   "source": [
    "def order(R, X_0 = X_0, dt = dt, N = N, solver = EM_solver):\n",
    "\n",
    "    dW = np.sqrt(dt) * np.random.randn(1, N)\n",
    "    W = np.cumsum(dW)\n",
    "\n",
    "    X_ref = X_0 * np.exp((mu - 0.5*sigma**2)*t[1:] + sigma*W)\n",
    "    X_ref = np.insert(X_ref, obj = 0, values = X_0)\n",
    "\n",
    "    err, X_approx, X_L, X_T = solver(R, dt, dW, N, X_ref)\n",
    "\n",
    "    return err, X_approx, X_L, X_T\n"
   ]
  },
  {
   "cell_type": "code",
   "execution_count": null,
   "metadata": {},
   "outputs": [],
   "source": [
    "R_list = [2**0, 2**1, 2**2, 2**3, 2**4]\n",
    "MC = 5 * 10**3"
   ]
  },
  {
   "cell_type": "code",
   "execution_count": null,
   "metadata": {},
   "outputs": [],
   "source": [
    "# Euler-Maruyama scheme\n",
    "\n",
    "Error = np.zeros((MC, len(R_list)))\n",
    "\n",
    "XL = np.zeros((MC, len(R_list)))\n",
    "XT = np.zeros((MC, len(R_list)))\n",
    "for i in range(MC):\n",
    "    for j in range(len(R_list)):\n",
    "        err, _, X_L, X_T = order(R = R_list[j], X_0 = X_0, dt = dt, N = N, solver = EM_solver)\n",
    "        Error[i, j] = err\n",
    "        XL[i, j] = X_L\n",
    "        XT[i, j] = X_T\n",
    "\n",
    "    \n",
    "Strong_Error_list = np.mean(Error, axis = 0)\n",
    "\n",
    "XL_list = np.mean(XL, axis = 0)\n",
    "XT_list = np.mean(XT, axis = 0)\n",
    "\n",
    "Weak_Error_list = np.abs(XL_list - XT_list)"
   ]
  },
  {
   "cell_type": "code",
   "execution_count": null,
   "metadata": {},
   "outputs": [],
   "source": [
    "# strong convergence\n",
    "dt_list = [dt*2**i for i in range(len(R_list))]\n",
    "sqrt_dt_list = [dt**0.5 for dt in dt_list]\n",
    "plt.loglog(dt_list, Strong_Error_list, \"k\", label = \"order of Euler-Maruyama scheme (strong)\")\n",
    "plt.loglog(dt_list, sqrt_dt_list, \"-.\", label = \"reference line: slope = 0.5\")\n",
    "plt.xlabel(r\"$\\Delta t$\")\n",
    "plt.ylabel(r\"$E[|x(T) - \\hat{X}_L|]$\")\n",
    "plt.legend()\n",
    "plt.savefig(\"./Euler-Maruyama_strong_convergence.pdf\")\n",
    "plt.grid()"
   ]
  },
  {
   "cell_type": "code",
   "execution_count": null,
   "metadata": {},
   "outputs": [],
   "source": [
    "# weak convergence\n",
    "dt_list = [dt*2**i for i in range(len(R_list))]\n",
    "sqrt_dt_list = [dt**1 for dt in dt_list]\n",
    "plt.loglog(dt_list, Weak_Error_list, \"k\", label = \"order of Euler-Maruyama scheme (weak)\")\n",
    "plt.loglog(dt_list, dt_list, \"-.\", label = \"reference line: slope = 1\")\n",
    "plt.xlabel(r\"$\\Delta t$\")\n",
    "plt.ylabel(r\"$| E[\\hat{x}_L] - E[x(T)] |$\")\n",
    "plt.legend()\n",
    "plt.savefig(\"./Euler-Maruyama_weak_convergence.pdf\")\n",
    "plt.grid()"
   ]
  },
  {
   "cell_type": "code",
   "execution_count": null,
   "metadata": {},
   "outputs": [],
   "source": [
    "# Milstein scheme\n",
    "\n",
    "Error = np.zeros((MC, len(R_list)))\n",
    "\n",
    "XL = np.zeros((MC, len(R_list)))\n",
    "XT = np.zeros((MC, len(R_list)))\n",
    "for i in range(MC):\n",
    "    for j in range(len(R_list)):\n",
    "        err, _, X_L, X_T = order(R = R_list[j], X_0 = X_0, dt = dt, N = N, solver = Milstein_solver)\n",
    "        Error[i, j] = err\n",
    "        XL[i, j] = X_L\n",
    "        XT[i, j] = X_T\n",
    "\n",
    "    \n",
    "Strong_Error_list = np.mean(Error, axis = 0)\n",
    "\n",
    "XL_list = np.mean(XL, axis = 0)\n",
    "XT_list = np.mean(XT, axis = 0)\n",
    "\n",
    "Weak_Error_list = np.abs(XL_list - XT_list)\n"
   ]
  },
  {
   "cell_type": "code",
   "execution_count": null,
   "metadata": {},
   "outputs": [],
   "source": [
    "# strong convergence\n",
    "dt_list = [dt*2**i for i in range(len(R_list))]\n",
    "plt.loglog(dt_list, Strong_Error_list, \"k\", label = \"order of Milstein scheme (strong)\")\n",
    "plt.loglog(dt_list, dt_list, \"-.\", label = \"reference line: slope = 1.0\")\n",
    "plt.xlabel(r\"$\\Delta t$\")\n",
    "plt.ylabel(r\"$E[|x(T) - \\hat{X}_L|]$\")\n",
    "plt.legend()\n",
    "plt.savefig(\"./Milstein_strong_convergence.pdf\")\n",
    "plt.grid()"
   ]
  },
  {
   "cell_type": "code",
   "execution_count": null,
   "metadata": {},
   "outputs": [],
   "source": [
    "# weak convergence\n",
    "dt_list = [dt*2**i for i in range(len(R_list))]\n",
    "sqrt_dt_list = [dt**1 for dt in dt_list]\n",
    "plt.loglog(dt_list, Weak_Error_list, \"k\", label = \"order of Milstein scheme (weak)\")\n",
    "plt.loglog(dt_list, dt_list, \"-.\", label = \"reference line: slope = 1\")\n",
    "plt.xlabel(r\"$\\Delta t$\")\n",
    "plt.ylabel(r\"$| E[\\hat{x}_L] - E[x(T)] |$\")\n",
    "plt.legend()\n",
    "plt.savefig(\"./Milstein_weak_convergence.pdf\")\n",
    "plt.grid()"
   ]
  },
  {
   "cell_type": "code",
   "execution_count": null,
   "metadata": {},
   "outputs": [],
   "source": [
    "# Runge-Kutta scheme\n",
    "\n",
    "Error = np.zeros((MC, len(R_list)))\n",
    "\n",
    "XL = np.zeros((MC, len(R_list)))\n",
    "XT = np.zeros((MC, len(R_list)))\n",
    "for i in range(MC):\n",
    "    for j in range(len(R_list)):\n",
    "        err, _, X_L, X_T = order(R = R_list[j], X_0 = X_0, dt = dt, N = N, solver = RK_solver)\n",
    "        Error[i, j] = err\n",
    "        XL[i, j] = X_L\n",
    "        XT[i, j] = X_T\n",
    "\n",
    "    \n",
    "Strong_Error_list = np.mean(Error, axis = 0)\n",
    "\n",
    "XL_list = np.mean(XL, axis = 0)\n",
    "XT_list = np.mean(XT, axis = 0)\n",
    "\n",
    "Weak_Error_list = np.abs(XL_list - XT_list)\n"
   ]
  },
  {
   "cell_type": "code",
   "execution_count": null,
   "metadata": {},
   "outputs": [],
   "source": [
    "# strong convergence\n",
    "dt_list = [dt*2**i for i in range(len(R_list))]\n",
    "plt.loglog(dt_list, Strong_Error_list, \"k\", label = \"order of Runge-Kutta scheme (strong)\")\n",
    "plt.loglog(dt_list, dt_list, \"-.\", label = \"reference line: slope = 1.0\")\n",
    "plt.xlabel(r\"$\\Delta t$\")\n",
    "plt.ylabel(r\"$E[|x(T) - \\hat{X}_L|]$\")\n",
    "plt.legend()\n",
    "plt.savefig(\"./Runge-Kutta_strong_convergence.pdf\")\n",
    "plt.grid()"
   ]
  },
  {
   "cell_type": "code",
   "execution_count": null,
   "metadata": {},
   "outputs": [],
   "source": [
    "# weak convergence\n",
    "dt_list = [dt*2**i for i in range(len(R_list))]\n",
    "sqrt_dt_list = [dt**1 for dt in dt_list]\n",
    "plt.loglog(dt_list, Weak_Error_list, \"k\", label = \"order of Runge-Kutta scheme (weak)\")\n",
    "plt.loglog(dt_list, dt_list, \"-.\", label = \"reference line: slope = 1\")\n",
    "plt.xlabel(r\"$\\Delta t$\")\n",
    "plt.ylabel(r\"$| E[\\hat{x}_L] - E[x(T)] |$\")\n",
    "plt.legend()\n",
    "plt.savefig(\"./Runge-Kutta_weak_convergence.pdf\")\n",
    "plt.grid()"
   ]
  },
  {
   "cell_type": "code",
   "execution_count": null,
   "metadata": {},
   "outputs": [],
   "source": [
    "# # test on one path\n",
    "# err, X_approx, X_L, X_T = order(R = 2**0, X_0 = X_0, dt = dt, N = N, seed_num = 100, solver = EM_solver)\n",
    "\n",
    "# R = 64\n",
    "# L = N // R\n",
    "\n",
    "# np.random.seed(100)\n",
    "# dW = np.sqrt(dt) * np.random.randn(1, N)\n",
    "# W = np.cumsum(dW)\n",
    "# X_ref = X_0 * np.exp((mu - 0.5*sigma**2)*t[1:] + sigma*W)\n",
    "# X_ref = np.insert(X_ref, obj = 0, values = X_0)\n",
    "\n",
    "# ax = plt.subplot(111)\n",
    "# ax.plot(t, X_ref, \"k\")\n",
    "# ax.plot(np.linspace(0, T, L+1), X_approx[::R], \"r-x\")\n",
    "# ax.grid()\n",
    "# ax.legend((\"Ref\",\"Approx by Euler-Maruyama\"), loc = \"best\")\n",
    "# plt.show()"
   ]
  },
  {
   "cell_type": "code",
   "execution_count": null,
   "metadata": {},
   "outputs": [],
   "source": []
  }
 ],
 "metadata": {
  "interpreter": {
   "hash": "32b299505eb5334bbf1912925aafcd2893c9318f944a2a92d7187130675a3806"
  },
  "kernelspec": {
   "display_name": "Python 3.9.7 64-bit",
   "language": "python",
   "name": "python3"
  },
  "language_info": {
   "codemirror_mode": {
    "name": "ipython",
    "version": 3
   },
   "file_extension": ".py",
   "mimetype": "text/x-python",
   "name": "python",
   "nbconvert_exporter": "python",
   "pygments_lexer": "ipython3",
   "version": "3.9.7"
  },
  "orig_nbformat": 4
 },
 "nbformat": 4,
 "nbformat_minor": 2
}
